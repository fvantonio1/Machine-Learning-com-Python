{
  "nbformat": 4,
  "nbformat_minor": 0,
  "metadata": {
    "colab": {
      "name": "Aprendizagem por reforço.ipynb",
      "provenance": [],
      "collapsed_sections": []
    },
    "kernelspec": {
      "name": "python3",
      "display_name": "Python 3"
    },
    "language_info": {
      "name": "python"
    }
  },
  "cells": [
    {
      "cell_type": "code",
      "execution_count": 2,
      "metadata": {
        "id": "IkJr96kCJM71",
        "colab": {
          "base_uri": "https://localhost:8080/"
        },
        "outputId": "e1df290f-a10f-4cf6-927d-fb9a139ef64d"
      },
      "outputs": [
        {
          "output_type": "stream",
          "name": "stdout",
          "text": [
            "+---------+\n",
            "|\u001b[34;1mR\u001b[0m: | : :G|\n",
            "| : | : : |\n",
            "| : : : :\u001b[43m \u001b[0m|\n",
            "| | : | : |\n",
            "|\u001b[35mY\u001b[0m| : |B: |\n",
            "+---------+\n",
            "\n"
          ]
        }
      ],
      "source": [
        "import gym\n",
        "import random\n",
        "\n",
        "\n",
        "\n",
        "env = gym.make('Taxi-v3').env\n",
        "env.render()"
      ]
    },
    {
      "cell_type": "code",
      "source": [
        "env.reset()\n",
        "env.render()"
      ],
      "metadata": {
        "colab": {
          "base_uri": "https://localhost:8080/"
        },
        "id": "nDg-VyOLKvFX",
        "outputId": "f79950a1-61e0-4123-adcf-d963f5468e82"
      },
      "execution_count": 3,
      "outputs": [
        {
          "output_type": "stream",
          "name": "stdout",
          "text": [
            "+---------+\n",
            "|R:\u001b[43m \u001b[0m| : :G|\n",
            "| : | : : |\n",
            "| : : : : |\n",
            "| | : | : |\n",
            "|\u001b[35mY\u001b[0m| : |\u001b[34;1mB\u001b[0m: |\n",
            "+---------+\n",
            "\n"
          ]
        }
      ]
    },
    {
      "cell_type": "code",
      "source": [
        "print(env.action_space)"
      ],
      "metadata": {
        "colab": {
          "base_uri": "https://localhost:8080/"
        },
        "id": "FO6ODhBVK2LG",
        "outputId": "6d7ae357-08c4-466b-dcab-3cd9d2aa7add"
      },
      "execution_count": 4,
      "outputs": [
        {
          "output_type": "stream",
          "name": "stdout",
          "text": [
            "Discrete(6)\n"
          ]
        }
      ]
    },
    {
      "cell_type": "code",
      "source": [
        "print(env.observation_space)"
      ],
      "metadata": {
        "colab": {
          "base_uri": "https://localhost:8080/"
        },
        "id": "23Y-O3GVLMWB",
        "outputId": "f780775f-2e61-497c-d591-e1a01dbf27b3"
      },
      "execution_count": 5,
      "outputs": [
        {
          "output_type": "stream",
          "name": "stdout",
          "text": [
            "Discrete(500)\n"
          ]
        }
      ]
    },
    {
      "cell_type": "code",
      "source": [
        "len(env.P)"
      ],
      "metadata": {
        "colab": {
          "base_uri": "https://localhost:8080/"
        },
        "id": "TcEJPG_pLPEr",
        "outputId": "fda8e505-38c9-4e3d-b9c7-4dac2614d33b"
      },
      "execution_count": 6,
      "outputs": [
        {
          "output_type": "execute_result",
          "data": {
            "text/plain": [
              "500"
            ]
          },
          "metadata": {},
          "execution_count": 6
        }
      ]
    },
    {
      "cell_type": "code",
      "source": [
        "env.P[265]"
      ],
      "metadata": {
        "colab": {
          "base_uri": "https://localhost:8080/"
        },
        "id": "NAfD4Q7ULhow",
        "outputId": "a6e1c6c8-2055-4f6e-a18d-022bcb859a4d"
      },
      "execution_count": 8,
      "outputs": [
        {
          "output_type": "execute_result",
          "data": {
            "text/plain": [
              "{0: [(1.0, 365, -1, False)],\n",
              " 1: [(1.0, 165, -1, False)],\n",
              " 2: [(1.0, 285, -1, False)],\n",
              " 3: [(1.0, 245, -1, False)],\n",
              " 4: [(1.0, 265, -10, False)],\n",
              " 5: [(1.0, 265, -10, False)]}"
            ]
          },
          "metadata": {},
          "execution_count": 8
        }
      ]
    },
    {
      "cell_type": "code",
      "source": [
        "import numpy as np\n",
        "\n",
        "q_table = np.zeros([env.observation_space.n, env.action_space.n])"
      ],
      "metadata": {
        "id": "4cs9WqkSPTnz"
      },
      "execution_count": 17,
      "outputs": []
    },
    {
      "cell_type": "code",
      "source": [
        "%%time\n",
        "\n",
        "from IPython.display import clear_output\n",
        "\n",
        "alpha = 0.1\n",
        "gamma = 0.9\n",
        "epsilon = 0.1\n",
        "\n",
        "for i in range(1000000):\n",
        "  estado = env.reset()\n",
        "\n",
        "  penalidades, recompensa = 0, 0\n",
        "  done = False\n",
        "  while not done:\n",
        "    if random.uniform(0, 1) < epsilon:\n",
        "      acao = env.action_space.sample()\n",
        "    else:\n",
        "      acao = np.argmax(q_table[estado])\n",
        "\n",
        "    proximo_estado, recompensa, done, info = env.step(acao)\n",
        "\n",
        "    q_antigo = q_table[estado, acao]\n",
        "    proximo_maximo = np.max(q_table[proximo_estado])\n",
        "\n",
        "    q_novo = (1 - alpha) * q_antigo + alpha * (recompensa + gamma * proximo_maximo)\n",
        "    q_table[estado, acao] = q_novo\n",
        "\n",
        "    if recompensa == -10:\n",
        "      penalidades += 1\n",
        "    \n",
        "    estado = proximo_estado\n",
        "  \n",
        "  if i % 100 == 0:\n",
        "    clear_output(wait=True)\n",
        "    print('Episódio: ', i)\n",
        "\n",
        "print('Treinamento concluído!!!!')"
      ],
      "metadata": {
        "colab": {
          "base_uri": "https://localhost:8080/"
        },
        "id": "Zc6oKC0YN4CN",
        "outputId": "68ce4504-986e-44ba-86b3-5941f8d1d78d"
      },
      "execution_count": 18,
      "outputs": [
        {
          "output_type": "stream",
          "name": "stdout",
          "text": [
            "Episódio:  999900\n",
            "Treinamento concluído!!!!\n",
            "CPU times: user 10min 52s, sys: 2min 13s, total: 13min 6s\n",
            "Wall time: 11min 21s\n"
          ]
        }
      ]
    },
    {
      "cell_type": "code",
      "source": [
        "q_table[223]"
      ],
      "metadata": {
        "colab": {
          "base_uri": "https://localhost:8080/"
        },
        "id": "lLYozv8TVLKL",
        "outputId": "8dadcb39-6229-4004-f64d-cc0ad2ac7a03"
      },
      "execution_count": 21,
      "outputs": [
        {
          "output_type": "execute_result",
          "data": {
            "text/plain": [
              "array([ -2.37440252,  -0.58568212,  -2.37440252,  -0.58568212,\n",
              "       -10.52711391, -10.52711391])"
            ]
          },
          "metadata": {},
          "execution_count": 21
        }
      ]
    },
    {
      "cell_type": "code",
      "source": [
        "env.reset()\n",
        "env.render()"
      ],
      "metadata": {
        "colab": {
          "base_uri": "https://localhost:8080/"
        },
        "id": "WNtxoOInVwu_",
        "outputId": "dbc3179e-85c8-420d-f02f-79f97cc1dadb"
      },
      "execution_count": 24,
      "outputs": [
        {
          "output_type": "stream",
          "name": "stdout",
          "text": [
            "+---------+\n",
            "|R: | : :G|\n",
            "| : | : : |\n",
            "| : : :\u001b[43m \u001b[0m: |\n",
            "| | : | : |\n",
            "|\u001b[34;1mY\u001b[0m| : |\u001b[35mB\u001b[0m: |\n",
            "+---------+\n",
            "\n"
          ]
        }
      ]
    },
    {
      "cell_type": "code",
      "source": [
        "env.encode(2, 1, 0, 3)"
      ],
      "metadata": {
        "colab": {
          "base_uri": "https://localhost:8080/"
        },
        "id": "-waFYJqqVP-D",
        "outputId": "d63689c2-5bf7-4d7d-c923-a6007836cf5f"
      },
      "execution_count": 20,
      "outputs": [
        {
          "output_type": "execute_result",
          "data": {
            "text/plain": [
              "223"
            ]
          },
          "metadata": {},
          "execution_count": 20
        }
      ]
    },
    {
      "cell_type": "markdown",
      "source": [
        "### Avaliação\n"
      ],
      "metadata": {
        "id": "ci5cvZMBV9NA"
      }
    },
    {
      "cell_type": "code",
      "source": [
        "total_penalidades = 0\n",
        "episodios = 50\n",
        "frames = []\n",
        "\n",
        "for _ in range(episodios):\n",
        "  estado = env.reset()\n",
        "\n",
        "  prenalidades, recompensa = 0, 0\n",
        "  done = False\n",
        "  while not done:\n",
        "    acao = np.argmax(q_table[estado])\n",
        "    estado, recompensa, done, info = env.step(acao)\n",
        "\n",
        "    if recompensa == -10:\n",
        "      penalidades += 1\n",
        "\n",
        "    frames.append({\n",
        "        'frame' : env.render(mode='ansi'),\n",
        "        'state' : estado,\n",
        "        'action' : acao,\n",
        "        'reward' : recompensa\n",
        "    })\n",
        "\n",
        "  total_penalidades += penalidades\n",
        "\n",
        "print('Episódios', episodios)\n",
        "print('Penalidades', total_penalidades)"
      ],
      "metadata": {
        "colab": {
          "base_uri": "https://localhost:8080/"
        },
        "id": "4NstWmw2V_F2",
        "outputId": "4c0f55b1-1932-4805-daa5-14b1cbf4de11"
      },
      "execution_count": 31,
      "outputs": [
        {
          "output_type": "stream",
          "name": "stdout",
          "text": [
            "Episódios 50\n",
            "Penalidades 150\n"
          ]
        }
      ]
    },
    {
      "cell_type": "code",
      "source": [
        "from time import sleep\n",
        "\n",
        "for frame in frames:\n",
        "  clear_output(wait=True)\n",
        "  print(frame['frame'])\n",
        "  print('Estado', frame['state'])\n",
        "  print('Ação', frame['action'])\n",
        "  print('Recompensa', frame['reward'])\n",
        "  sleep(.5)"
      ],
      "metadata": {
        "colab": {
          "base_uri": "https://localhost:8080/"
        },
        "id": "5R7CvPjFX3El",
        "outputId": "57a3ae51-cc08-462a-d8ab-d4eb56273195"
      },
      "execution_count": 38,
      "outputs": [
        {
          "output_type": "stream",
          "name": "stdout",
          "text": [
            "+---------+\n",
            "|R: | : :G|\n",
            "| : | : : |\n",
            "| : : : : |\n",
            "| | : | : |\n",
            "|\u001b[35m\u001b[34;1m\u001b[43mY\u001b[0m\u001b[0m\u001b[0m| : |B: |\n",
            "+---------+\n",
            "  (Dropoff)\n",
            "\n",
            "Estado 410\n",
            "Ação 5\n",
            "Recompensa 20\n"
          ]
        }
      ]
    }
  ]
}